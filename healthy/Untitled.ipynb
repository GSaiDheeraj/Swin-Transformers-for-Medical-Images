{
 "cells": [
  {
   "cell_type": "code",
   "execution_count": 8,
   "id": "00240dcf",
   "metadata": {},
   "outputs": [],
   "source": [
    "import cv2\n",
    "\n",
    "gray_img = cv2.imread(\"C:\\\\Users\\\\saidh\\\\Desktop\\\\COVID-19 deepfakes\\\\infected\\\\MIDRC-RICORD-1C-419639-000235-89929-0.png\")\n",
    "color_img = cv2.cvtColor(gray_img, cv2.COLOR_BGR2RGB)"
   ]
  },
  {
   "cell_type": "code",
   "execution_count": 11,
   "id": "96f55ccb",
   "metadata": {},
   "outputs": [
    {
     "name": "stdout",
     "output_type": "stream",
     "text": [
      "(2516, 2777, 3)\n"
     ]
    }
   ],
   "source": [
    "print(color_img.shape)\n",
    "# cv2.imshow('color_img', color_img)\n",
    "# cv2.waitKey(0)"
   ]
  },
  {
   "cell_type": "code",
   "execution_count": 13,
   "id": "fdfd7ded",
   "metadata": {},
   "outputs": [
    {
     "data": {
      "text/plain": [
       "True"
      ]
     },
     "execution_count": 13,
     "metadata": {},
     "output_type": "execute_result"
    }
   ],
   "source": [
    "cv2.imwrite(\"rgb_infected.jpg\", color_img)"
   ]
  },
  {
   "cell_type": "code",
   "execution_count": 3,
   "id": "d5376db9",
   "metadata": {},
   "outputs": [
    {
     "name": "stdout",
     "output_type": "stream",
     "text": [
      "4.2.0\n"
     ]
    }
   ],
   "source": [
    "print(cv2.__version__)"
   ]
  },
  {
   "cell_type": "code",
   "execution_count": 7,
   "id": "f39e3ae4",
   "metadata": {},
   "outputs": [],
   "source": [
    "img = cv2.imread('\"C:\\Users\\saidh\\Desktop\\COVID-19 deepfakes\\infected\\MIDRC-RICORD-1C-419639-000235-89929-0.png\"')\n",
    "if(img is not None):\n",
    "    cv2.cvtColor(img, cv2.COLOR_BGR2GRAY)\n",
    "    print('done')"
   ]
  },
  {
   "cell_type": "code",
   "execution_count": null,
   "id": "3150452a",
   "metadata": {},
   "outputs": [],
   "source": []
  }
 ],
 "metadata": {
  "kernelspec": {
   "display_name": "Python 3",
   "language": "python",
   "name": "python3"
  },
  "language_info": {
   "codemirror_mode": {
    "name": "ipython",
    "version": 3
   },
   "file_extension": ".py",
   "mimetype": "text/x-python",
   "name": "python",
   "nbconvert_exporter": "python",
   "pygments_lexer": "ipython3",
   "version": "3.6.13"
  }
 },
 "nbformat": 4,
 "nbformat_minor": 5
}
