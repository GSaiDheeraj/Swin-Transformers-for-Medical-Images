{
 "cells": [
  {
   "cell_type": "code",
   "execution_count": 1,
   "metadata": {
    "_cell_guid": "b1076dfc-b9ad-4769-8c92-a6c4dae69d19",
    "_uuid": "8f2839f25d086af736a60e9eeb907d3b93b6e0e5",
    "execution": {
     "iopub.execute_input": "2022-07-24T05:41:46.123055Z",
     "iopub.status.busy": "2022-07-24T05:41:46.122082Z",
     "iopub.status.idle": "2022-07-24T05:42:14.060005Z",
     "shell.execute_reply": "2022-07-24T05:42:14.058878Z",
     "shell.execute_reply.started": "2022-07-24T05:41:46.122951Z"
    }
   },
   "outputs": [],
   "source": [
    "# This Python 3 environment comes with many helpful analytics libraries installed\n",
    "# It is defined by the kaggle/python Docker image: https://github.com/kaggle/docker-python\n",
    "# For example, here's several helpful packages to load\n",
    "\n",
    "import numpy as np # linear algebra\n",
    "import pandas as pd # data processing, CSV file I/O (e.g. pd.read_csv)\n",
    "\n",
    "# Input data files are available in the read-only \"../input/\" directory\n",
    "# For example, running this (by clicking run or pressing Shift+Enter) will list all files under the input directory\n",
    "\n",
    "import os\n",
    "for dirname, _, filenames in os.walk('/kaggle/input'):\n",
    "    for filename in filenames:\n",
    "        os.path.join(dirname, filename)\n",
    "\n",
    "# You can write up to 20GB to the current directory (/kaggle/working/) that gets preserved as output when you create a version using \"Save & Run All\" \n",
    "# You can also write temporary files to /kaggle/temp/, but they won't be saved outside of the current session"
   ]
  },
  {
   "cell_type": "code",
   "execution_count": 17,
   "metadata": {
    "execution": {
     "iopub.execute_input": "2022-07-24T09:17:35.910938Z",
     "iopub.status.busy": "2022-07-24T09:17:35.910364Z",
     "iopub.status.idle": "2022-07-24T09:17:36.518637Z",
     "shell.execute_reply": "2022-07-24T09:17:36.517451Z",
     "shell.execute_reply.started": "2022-07-24T09:17:35.910898Z"
    }
   },
   "outputs": [],
   "source": [
    "import tensorflow as tf\n",
    "from tensorflow import keras\n",
    "from tensorflow.keras.optimizers import Adam\n",
    "from tensorflow.keras.preprocessing.image import ImageDataGenerator\n",
    "import numpy as np\n",
    "import pandas as pd\n",
    "import time\n",
    "import glob\n",
    "from sklearn.model_selection import train_test_split\n",
    "import matplotlib.pyplot as plt\n",
    "from matplotlib.pyplot import imshow\n",
    "import os\n",
    "import PIL\n",
    "import cv2\n",
    "import shutil\n",
    "from sklearn.metrics import confusion_matrix, classification_report"
   ]
  },
  {
   "cell_type": "code",
   "execution_count": 18,
   "metadata": {
    "execution": {
     "iopub.execute_input": "2022-07-24T09:17:36.521592Z",
     "iopub.status.busy": "2022-07-24T09:17:36.520909Z",
     "iopub.status.idle": "2022-07-24T09:17:37.430480Z",
     "shell.execute_reply": "2022-07-24T09:17:37.429248Z",
     "shell.execute_reply.started": "2022-07-24T09:17:36.521549Z"
    }
   },
   "outputs": [],
   "source": [
    "!nvidia-smi"
   ]
  },
  {
   "cell_type": "code",
   "execution_count": 19,
   "metadata": {
    "execution": {
     "iopub.execute_input": "2022-07-24T09:17:37.438171Z",
     "iopub.status.busy": "2022-07-24T09:17:37.435787Z",
     "iopub.status.idle": "2022-07-24T09:17:37.555431Z",
     "shell.execute_reply": "2022-07-24T09:17:37.554282Z",
     "shell.execute_reply.started": "2022-07-24T09:17:37.438129Z"
    }
   },
   "outputs": [],
   "source": [
    "train_df = pd.read_csv('../input/covidx-cxr2/train.txt', sep=\" \", header=None)\n",
    "train_df.columns=['patient id', 'file_paths', 'labels', 'data source']\n",
    "train_df=train_df.drop(['patient id', 'data source'], axis=1 )"
   ]
  },
  {
   "cell_type": "code",
   "execution_count": 20,
   "metadata": {
    "execution": {
     "iopub.execute_input": "2022-07-24T09:17:37.558509Z",
     "iopub.status.busy": "2022-07-24T09:17:37.557833Z",
     "iopub.status.idle": "2022-07-24T09:17:37.578372Z",
     "shell.execute_reply": "2022-07-24T09:17:37.577469Z",
     "shell.execute_reply.started": "2022-07-24T09:17:37.558470Z"
    }
   },
   "outputs": [],
   "source": [
    "train_df.head()"
   ]
  },
  {
   "cell_type": "code",
   "execution_count": 21,
   "metadata": {
    "execution": {
     "iopub.execute_input": "2022-07-24T09:17:37.580405Z",
     "iopub.status.busy": "2022-07-24T09:17:37.579843Z",
     "iopub.status.idle": "2022-07-24T09:17:37.631434Z",
     "shell.execute_reply": "2022-07-24T09:17:37.630535Z",
     "shell.execute_reply.started": "2022-07-24T09:17:37.580352Z"
    }
   },
   "outputs": [],
   "source": [
    "test_df = pd.read_csv('../input/covidx-cxr2/test.txt', sep=\" \", header=None)\n",
    "test_df.columns=['id', 'file_paths', 'labels', 'data source' ]\n",
    "test_df=test_df.drop(['id', 'data source'], axis=1 )"
   ]
  },
  {
   "cell_type": "code",
   "execution_count": 22,
   "metadata": {
    "execution": {
     "iopub.execute_input": "2022-07-24T09:17:37.641094Z",
     "iopub.status.busy": "2022-07-24T09:17:37.640780Z",
     "iopub.status.idle": "2022-07-24T09:17:37.653032Z",
     "shell.execute_reply": "2022-07-24T09:17:37.652145Z",
     "shell.execute_reply.started": "2022-07-24T09:17:37.641062Z"
    }
   },
   "outputs": [],
   "source": [
    "test_df.head()"
   ]
  },
  {
   "cell_type": "code",
   "execution_count": 23,
   "metadata": {
    "execution": {
     "iopub.execute_input": "2022-07-24T09:17:37.919730Z",
     "iopub.status.busy": "2022-07-24T09:17:37.919268Z",
     "iopub.status.idle": "2022-07-24T09:17:37.924762Z",
     "shell.execute_reply": "2022-07-24T09:17:37.923749Z",
     "shell.execute_reply.started": "2022-07-24T09:17:37.919691Z"
    }
   },
   "outputs": [],
   "source": [
    "train_path = '../input/covidx-cxr2/train/'\n",
    "test_path = '../input/covidx-cxr2/test/'"
   ]
  },
  {
   "cell_type": "code",
   "execution_count": 24,
   "metadata": {
    "execution": {
     "iopub.execute_input": "2022-07-24T09:17:38.148658Z",
     "iopub.status.busy": "2022-07-24T09:17:38.147341Z",
     "iopub.status.idle": "2022-07-24T09:17:38.172185Z",
     "shell.execute_reply": "2022-07-24T09:17:38.171286Z",
     "shell.execute_reply.started": "2022-07-24T09:17:38.148613Z"
    }
   },
   "outputs": [],
   "source": [
    "train_df['labels'].value_counts()"
   ]
  },
  {
   "cell_type": "code",
   "execution_count": 25,
   "metadata": {
    "execution": {
     "iopub.execute_input": "2022-07-24T09:17:38.519211Z",
     "iopub.status.busy": "2022-07-24T09:17:38.518797Z",
     "iopub.status.idle": "2022-07-24T09:17:38.567579Z",
     "shell.execute_reply": "2022-07-24T09:17:38.566655Z",
     "shell.execute_reply.started": "2022-07-24T09:17:38.519174Z"
    }
   },
   "outputs": [],
   "source": [
    "file_count = 13000\n",
    "samples = []\n",
    "for category in train_df['labels'].unique():    \n",
    "    category_slice = train_df.query(\"labels == @category\")    \n",
    "    samples.append(category_slice.sample(file_count, replace=False,random_state=1))\n",
    "train_df = pd.concat(samples, axis=0).sample(frac=1.0, random_state=1).reset_index(drop=True)\n",
    "print ( train_df['labels'].value_counts())\n",
    "print (len(train_df))"
   ]
  },
  {
   "cell_type": "code",
   "execution_count": 26,
   "metadata": {
    "execution": {
     "iopub.execute_input": "2022-07-24T09:17:38.847286Z",
     "iopub.status.busy": "2022-07-24T09:17:38.844465Z",
     "iopub.status.idle": "2022-07-24T09:17:38.861049Z",
     "shell.execute_reply": "2022-07-24T09:17:38.859682Z",
     "shell.execute_reply.started": "2022-07-24T09:17:38.847245Z"
    }
   },
   "outputs": [],
   "source": [
    "train_df, valid_df = train_test_split(train_df, train_size=0.9, random_state=0)"
   ]
  },
  {
   "cell_type": "code",
   "execution_count": 27,
   "metadata": {
    "execution": {
     "iopub.execute_input": "2022-07-24T09:17:39.160030Z",
     "iopub.status.busy": "2022-07-24T09:17:39.159192Z",
     "iopub.status.idle": "2022-07-24T09:17:39.201130Z",
     "shell.execute_reply": "2022-07-24T09:17:39.200126Z",
     "shell.execute_reply.started": "2022-07-24T09:17:39.159961Z"
    }
   },
   "outputs": [],
   "source": [
    "print(train_df.labels.value_counts())\n",
    "print(valid_df.labels.value_counts())\n",
    "print(test_df.labels.value_counts())"
   ]
  },
  {
   "cell_type": "code",
   "execution_count": 71,
   "metadata": {
    "execution": {
     "iopub.execute_input": "2022-07-24T09:25:27.909573Z",
     "iopub.status.busy": "2022-07-24T09:25:27.909138Z",
     "iopub.status.idle": "2022-07-24T09:25:27.914530Z",
     "shell.execute_reply": "2022-07-24T09:25:27.913451Z",
     "shell.execute_reply.started": "2022-07-24T09:25:27.909540Z"
    }
   },
   "outputs": [],
   "source": [
    "target_size=(224, 224)\n",
    "batch_size=64"
   ]
  },
  {
   "cell_type": "code",
   "execution_count": 72,
   "metadata": {
    "execution": {
     "iopub.execute_input": "2022-07-24T09:25:28.306236Z",
     "iopub.status.busy": "2022-07-24T09:25:28.305387Z",
     "iopub.status.idle": "2022-07-24T09:25:38.712456Z",
     "shell.execute_reply": "2022-07-24T09:25:38.711367Z",
     "shell.execute_reply.started": "2022-07-24T09:25:28.306190Z"
    }
   },
   "outputs": [],
   "source": [
    "train_datagen = ImageDataGenerator(\n",
    "    preprocessing_function=tf.keras.applications.resnet_v2.preprocess_input,\n",
    "    horizontal_flip=True, zoom_range=0.1\n",
    ")\n",
    "\n",
    "test_datagen = ImageDataGenerator(\n",
    "    preprocessing_function=tf.keras.applications.resnet_v2.preprocess_input\n",
    ")\n",
    "\n",
    "train_gen = train_datagen.flow_from_dataframe(\n",
    "    train_df,\n",
    "    directory=train_path,\n",
    "    x_col='file_paths',\n",
    "    y_col='labels',\n",
    "    target_size=target_size,\n",
    "    batch_size=batch_size,\n",
    "    color_mode='rgb',\n",
    "    class_mode='binary'\n",
    ")\n",
    "\n",
    "\n",
    "valid_gen = test_datagen.flow_from_dataframe(\n",
    "    valid_df,\n",
    "    directory=train_path,\n",
    "    x_col='file_paths',\n",
    "    y_col='labels', \n",
    "    target_size=target_size,\n",
    "    batch_size=batch_size,\n",
    "    color_mode='rgb',\n",
    "    class_mode='binary'\n",
    ")\n",
    "\n",
    "test_gen = test_datagen.flow_from_dataframe(\n",
    "    test_df,\n",
    "    directory=test_path,\n",
    "    x_col='file_paths',\n",
    "    y_col='labels',\n",
    "    target_size=target_size,\n",
    "    batch_size=batch_size, \n",
    "    color_mode='rgb',\n",
    "    class_mode='binary'\n",
    ")"
   ]
  },
  {
   "cell_type": "code",
   "execution_count": 73,
   "metadata": {
    "execution": {
     "iopub.execute_input": "2022-07-24T09:25:38.714763Z",
     "iopub.status.busy": "2022-07-24T09:25:38.714433Z",
     "iopub.status.idle": "2022-07-24T09:25:38.719557Z",
     "shell.execute_reply": "2022-07-24T09:25:38.718610Z",
     "shell.execute_reply.started": "2022-07-24T09:25:38.714727Z"
    }
   },
   "outputs": [],
   "source": [
    "import matplotlib.pyplot as plt\n",
    "import numpy as np\n",
    "import tensorflow as tf\n",
    "import tensorflow_addons as tfa\n",
    "from tensorflow import keras\n",
    "from tensorflow.keras import layers"
   ]
  },
  {
   "cell_type": "code",
   "execution_count": 75,
   "metadata": {
    "execution": {
     "iopub.execute_input": "2022-07-24T09:25:40.113627Z",
     "iopub.status.busy": "2022-07-24T09:25:40.113058Z",
     "iopub.status.idle": "2022-07-24T09:25:40.118334Z",
     "shell.execute_reply": "2022-07-24T09:25:40.117396Z",
     "shell.execute_reply.started": "2022-07-24T09:25:40.113590Z"
    }
   },
   "outputs": [],
   "source": [
    "num_classes = 2\n",
    "input_shape = (224, 224, 3)"
   ]
  },
  {
   "cell_type": "code",
   "execution_count": 76,
   "metadata": {
    "execution": {
     "iopub.execute_input": "2022-07-24T09:25:51.284009Z",
     "iopub.status.busy": "2022-07-24T09:25:51.283426Z",
     "iopub.status.idle": "2022-07-24T09:25:51.291342Z",
     "shell.execute_reply": "2022-07-24T09:25:51.290135Z",
     "shell.execute_reply.started": "2022-07-24T09:25:51.283972Z"
    }
   },
   "outputs": [],
   "source": [
    "patch_size = (2, 2)  # 2-by-2 sized patches\n",
    "dropout_rate = 0.03  # Dropout rate\n",
    "num_heads = 8  # Attention heads\n",
    "embed_dim = 64  # Embedding dimension\n",
    "num_mlp = 256  # MLP layer size\n",
    "qkv_bias = True  # Convert embedded patches to query, key, and values with a learnable additive value\n",
    "window_size = 2  # Size of attention window\n",
    "shift_size = 1  # Size of shifting window\n",
    "image_dimension = 224  # Initial image size\n",
    "\n",
    "num_patch_x = input_shape[0] // patch_size[0]\n",
    "num_patch_y = input_shape[1] // patch_size[1]\n",
    "\n",
    "learning_rate = 1e-3\n",
    "batch_size = 128\n",
    "num_epochs = 40\n",
    "validation_split = 0.1\n",
    "weight_decay = 0.0001\n",
    "label_smoothing = 0.1"
   ]
  },
  {
   "cell_type": "code",
   "execution_count": 77,
   "metadata": {
    "execution": {
     "iopub.execute_input": "2022-07-24T09:25:52.290047Z",
     "iopub.status.busy": "2022-07-24T09:25:52.289602Z",
     "iopub.status.idle": "2022-07-24T09:25:52.313015Z",
     "shell.execute_reply": "2022-07-24T09:25:52.311870Z",
     "shell.execute_reply.started": "2022-07-24T09:25:52.290009Z"
    }
   },
   "outputs": [],
   "source": [
    "def window_partition(x, window_size):\n",
    "    _, height, width, channels = x.shape\n",
    "    patch_num_y = height // window_size\n",
    "    patch_num_x = width // window_size\n",
    "    x = tf.reshape(\n",
    "        x, shape=(-1, patch_num_y, window_size, patch_num_x, window_size, channels)\n",
    "    )\n",
    "    x = tf.transpose(x, (0, 1, 3, 2, 4, 5))\n",
    "    windows = tf.reshape(x, shape=(-1, window_size, window_size, channels))\n",
    "    return windows\n",
    "\n",
    "\n",
    "def window_reverse(windows, window_size, height, width, channels):\n",
    "    patch_num_y = height // window_size\n",
    "    patch_num_x = width // window_size\n",
    "    x = tf.reshape(\n",
    "        windows,\n",
    "        shape=(-1, patch_num_y, patch_num_x, window_size, window_size, channels),\n",
    "    )\n",
    "    x = tf.transpose(x, perm=(0, 1, 3, 2, 4, 5))\n",
    "    x = tf.reshape(x, shape=(-1, height, width, channels))\n",
    "    return x\n",
    "\n",
    "\n",
    "class DropPath(layers.Layer):\n",
    "    def __init__(self, drop_prob=None, **kwargs):\n",
    "        super(DropPath, self).__init__(**kwargs)\n",
    "        self.drop_prob = drop_prob\n",
    "\n",
    "    def call(self, x):\n",
    "        input_shape = tf.shape(x)\n",
    "        batch_size = input_shape[0]\n",
    "        rank = x.shape.rank\n",
    "        shape = (batch_size,) + (1,) * (rank - 1)\n",
    "        random_tensor = (1 - self.drop_prob) + tf.random.uniform(shape, dtype=x.dtype)\n",
    "        path_mask = tf.floor(random_tensor)\n",
    "        output = tf.math.divide(x, 1 - self.drop_prob) * path_mask\n",
    "        return output"
   ]
  },
  {
   "cell_type": "code",
   "execution_count": 78,
   "metadata": {
    "execution": {
     "iopub.execute_input": "2022-07-24T09:25:52.608718Z",
     "iopub.status.busy": "2022-07-24T09:25:52.608244Z",
     "iopub.status.idle": "2022-07-24T09:25:52.640666Z",
     "shell.execute_reply": "2022-07-24T09:25:52.639561Z",
     "shell.execute_reply.started": "2022-07-24T09:25:52.608677Z"
    }
   },
   "outputs": [],
   "source": [
    "class WindowAttention(layers.Layer):\n",
    "    def __init__(\n",
    "        self, dim, window_size, num_heads, qkv_bias=True, dropout_rate=0.0, **kwargs\n",
    "    ):\n",
    "        super(WindowAttention, self).__init__(**kwargs)\n",
    "        self.dim = dim\n",
    "        self.window_size = window_size\n",
    "        self.num_heads = num_heads\n",
    "        self.scale = (dim // num_heads) ** -0.5\n",
    "        self.qkv = layers.Dense(dim * 3, use_bias=qkv_bias)\n",
    "        self.dropout = layers.Dropout(dropout_rate)\n",
    "        self.proj = layers.Dense(dim)\n",
    "\n",
    "    def build(self, input_shape):\n",
    "        num_window_elements = (2 * self.window_size[0] - 1) * (\n",
    "            2 * self.window_size[1] - 1\n",
    "        )\n",
    "        self.relative_position_bias_table = self.add_weight(\n",
    "            shape=(num_window_elements, self.num_heads),\n",
    "            initializer=tf.initializers.Zeros(),\n",
    "            trainable=True,\n",
    "        )\n",
    "        coords_h = np.arange(self.window_size[0])\n",
    "        coords_w = np.arange(self.window_size[1])\n",
    "        coords_matrix = np.meshgrid(coords_h, coords_w, indexing=\"ij\")\n",
    "        coords = np.stack(coords_matrix)\n",
    "        coords_flatten = coords.reshape(2, -1)\n",
    "        relative_coords = coords_flatten[:, :, None] - coords_flatten[:, None, :]\n",
    "        relative_coords = relative_coords.transpose([1, 2, 0])\n",
    "        relative_coords[:, :, 0] += self.window_size[0] - 1\n",
    "        relative_coords[:, :, 1] += self.window_size[1] - 1\n",
    "        relative_coords[:, :, 0] *= 2 * self.window_size[1] - 1\n",
    "        relative_position_index = relative_coords.sum(-1)\n",
    "\n",
    "        self.relative_position_index = tf.Variable(\n",
    "            initial_value=tf.convert_to_tensor(relative_position_index), trainable=False\n",
    "        )\n",
    "\n",
    "    def call(self, x, mask=None):\n",
    "        _, size, channels = x.shape\n",
    "        head_dim = channels // self.num_heads\n",
    "        x_qkv = self.qkv(x)\n",
    "        x_qkv = tf.reshape(x_qkv, shape=(-1, size, 3, self.num_heads, head_dim))\n",
    "        x_qkv = tf.transpose(x_qkv, perm=(2, 0, 3, 1, 4))\n",
    "        q, k, v = x_qkv[0], x_qkv[1], x_qkv[2]\n",
    "        q = q * self.scale\n",
    "        k = tf.transpose(k, perm=(0, 1, 3, 2))\n",
    "        attn = q @ k\n",
    "\n",
    "        num_window_elements = self.window_size[0] * self.window_size[1]\n",
    "        relative_position_index_flat = tf.reshape(\n",
    "            self.relative_position_index, shape=(-1,)\n",
    "        )\n",
    "        relative_position_bias = tf.gather(\n",
    "            self.relative_position_bias_table, relative_position_index_flat\n",
    "        )\n",
    "        relative_position_bias = tf.reshape(\n",
    "            relative_position_bias, shape=(num_window_elements, num_window_elements, -1)\n",
    "        )\n",
    "        relative_position_bias = tf.transpose(relative_position_bias, perm=(2, 0, 1))\n",
    "        attn = attn + tf.expand_dims(relative_position_bias, axis=0)\n",
    "\n",
    "        if mask is not None:\n",
    "            nW = mask.get_shape()[0]\n",
    "            mask_float = tf.cast(\n",
    "                tf.expand_dims(tf.expand_dims(mask, axis=1), axis=0), tf.float32\n",
    "            )\n",
    "            attn = (\n",
    "                tf.reshape(attn, shape=(-1, nW, self.num_heads, size, size))\n",
    "                + mask_float\n",
    "            )\n",
    "            attn = tf.reshape(attn, shape=(-1, self.num_heads, size, size))\n",
    "            attn = keras.activations.softmax(attn, axis=-1)\n",
    "        else:\n",
    "            attn = keras.activations.softmax(attn, axis=-1)\n",
    "        attn = self.dropout(attn)\n",
    "\n",
    "        x_qkv = attn @ v\n",
    "        x_qkv = tf.transpose(x_qkv, perm=(0, 2, 1, 3))\n",
    "        x_qkv = tf.reshape(x_qkv, shape=(-1, size, channels))\n",
    "        x_qkv = self.proj(x_qkv)\n",
    "        x_qkv = self.dropout(x_qkv)\n",
    "        return x_qkv"
   ]
  },
  {
   "cell_type": "code",
   "execution_count": 79,
   "metadata": {
    "execution": {
     "iopub.execute_input": "2022-07-24T09:25:53.014259Z",
     "iopub.status.busy": "2022-07-24T09:25:53.013711Z",
     "iopub.status.idle": "2022-07-24T09:25:53.055215Z",
     "shell.execute_reply": "2022-07-24T09:25:53.054092Z",
     "shell.execute_reply.started": "2022-07-24T09:25:53.014228Z"
    }
   },
   "outputs": [],
   "source": [
    "class SwinTransformer(layers.Layer):\n",
    "    def __init__(\n",
    "        self,\n",
    "        dim,\n",
    "        num_patch,\n",
    "        num_heads,\n",
    "        window_size=7,\n",
    "        shift_size=0,\n",
    "        num_mlp=1024,\n",
    "        qkv_bias=True,\n",
    "        dropout_rate=0.0,\n",
    "        **kwargs,\n",
    "    ):\n",
    "        super(SwinTransformer, self).__init__(**kwargs)\n",
    "\n",
    "        self.dim = dim  # number of input dimensions\n",
    "        self.num_patch = num_patch  # number of embedded patches\n",
    "        self.num_heads = num_heads  # number of attention heads\n",
    "        self.window_size = window_size  # size of window\n",
    "        self.shift_size = shift_size  # size of window shift\n",
    "        self.num_mlp = num_mlp  # number of MLP nodes\n",
    "\n",
    "        self.norm1 = layers.LayerNormalization(epsilon=1e-5)\n",
    "        self.attn = WindowAttention(\n",
    "            dim,\n",
    "            window_size=(self.window_size, self.window_size),\n",
    "            num_heads=num_heads,\n",
    "            qkv_bias=qkv_bias,\n",
    "            dropout_rate=dropout_rate,\n",
    "        )\n",
    "        self.drop_path = DropPath(dropout_rate)\n",
    "        self.norm2 = layers.LayerNormalization(epsilon=1e-5)\n",
    "\n",
    "        self.mlp = keras.Sequential(\n",
    "            [\n",
    "                layers.Dense(num_mlp),\n",
    "                layers.Activation(keras.activations.gelu),\n",
    "                layers.Dropout(dropout_rate),\n",
    "                layers.Dense(dim),\n",
    "                layers.Dropout(dropout_rate),\n",
    "            ]\n",
    "        )\n",
    "\n",
    "        if min(self.num_patch) < self.window_size:\n",
    "            self.shift_size = 0\n",
    "            self.window_size = min(self.num_patch)\n",
    "\n",
    "    def build(self, input_shape):\n",
    "        if self.shift_size == 0:\n",
    "            self.attn_mask = None\n",
    "        else:\n",
    "            height, width = self.num_patch\n",
    "            h_slices = (\n",
    "                slice(0, -self.window_size),\n",
    "                slice(-self.window_size, -self.shift_size),\n",
    "                slice(-self.shift_size, None),\n",
    "            )\n",
    "            w_slices = (\n",
    "                slice(0, -self.window_size),\n",
    "                slice(-self.window_size, -self.shift_size),\n",
    "                slice(-self.shift_size, None),\n",
    "            )\n",
    "            mask_array = np.zeros((1, height, width, 1))\n",
    "            count = 0\n",
    "            for h in h_slices:\n",
    "                for w in w_slices:\n",
    "                    mask_array[:, h, w, :] = count\n",
    "                    count += 1\n",
    "            mask_array = tf.convert_to_tensor(mask_array)\n",
    "\n",
    "            # mask array to windows\n",
    "            mask_windows = window_partition(mask_array, self.window_size)\n",
    "            mask_windows = tf.reshape(\n",
    "                mask_windows, shape=[-1, self.window_size * self.window_size]\n",
    "            )\n",
    "            attn_mask = tf.expand_dims(mask_windows, axis=1) - tf.expand_dims(\n",
    "                mask_windows, axis=2\n",
    "            )\n",
    "            attn_mask = tf.where(attn_mask != 0, -100.0, attn_mask)\n",
    "            attn_mask = tf.where(attn_mask == 0, 0.0, attn_mask)\n",
    "            self.attn_mask = tf.Variable(initial_value=attn_mask, trainable=False)\n",
    "\n",
    "    def call(self, x):\n",
    "        height, width = self.num_patch\n",
    "        _, num_patches_before, channels = x.shape\n",
    "        x_skip = x\n",
    "        x = self.norm1(x)\n",
    "        x = tf.reshape(x, shape=(-1, height, width, channels))\n",
    "        if self.shift_size > 0:\n",
    "            shifted_x = tf.roll(\n",
    "                x, shift=[-self.shift_size, -self.shift_size], axis=[1, 2]\n",
    "            )\n",
    "        else:\n",
    "            shifted_x = x\n",
    "\n",
    "        x_windows = window_partition(shifted_x, self.window_size)\n",
    "        x_windows = tf.reshape(\n",
    "            x_windows, shape=(-1, self.window_size * self.window_size, channels)\n",
    "        )\n",
    "        attn_windows = self.attn(x_windows, mask=self.attn_mask)\n",
    "\n",
    "        attn_windows = tf.reshape(\n",
    "            attn_windows, shape=(-1, self.window_size, self.window_size, channels)\n",
    "        )\n",
    "        shifted_x = window_reverse(\n",
    "            attn_windows, self.window_size, height, width, channels\n",
    "        )\n",
    "        if self.shift_size > 0:\n",
    "            x = tf.roll(\n",
    "                shifted_x, shift=[self.shift_size, self.shift_size], axis=[1, 2]\n",
    "            )\n",
    "        else:\n",
    "            x = shifted_x\n",
    "\n",
    "        x = tf.reshape(x, shape=(-1, height * width, channels))\n",
    "        x = self.drop_path(x)\n",
    "        x = x_skip + x\n",
    "        x_skip = x\n",
    "        x = self.norm2(x)\n",
    "        x = self.mlp(x)\n",
    "        x = self.drop_path(x)\n",
    "        x = x_skip + x\n",
    "        return x\n"
   ]
  },
  {
   "cell_type": "code",
   "execution_count": 80,
   "metadata": {
    "execution": {
     "iopub.execute_input": "2022-07-24T09:25:53.327584Z",
     "iopub.status.busy": "2022-07-24T09:25:53.327213Z",
     "iopub.status.idle": "2022-07-24T09:25:53.343958Z",
     "shell.execute_reply": "2022-07-24T09:25:53.342962Z",
     "shell.execute_reply.started": "2022-07-24T09:25:53.327554Z"
    }
   },
   "outputs": [],
   "source": [
    "class PatchExtract(layers.Layer):\n",
    "    def __init__(self, patch_size, **kwargs):\n",
    "        super(PatchExtract, self).__init__(**kwargs)\n",
    "        self.patch_size_x = patch_size[0]\n",
    "        self.patch_size_y = patch_size[0]\n",
    "\n",
    "    def call(self, images):\n",
    "        batch_size = tf.shape(images)[0]\n",
    "        patches = tf.image.extract_patches(\n",
    "            images=images,\n",
    "            sizes=(1, self.patch_size_x, self.patch_size_y, 1),\n",
    "            strides=(1, self.patch_size_x, self.patch_size_y, 1),\n",
    "            rates=(1, 1, 1, 1),\n",
    "            padding=\"VALID\",\n",
    "        )\n",
    "        patch_dim = patches.shape[-1]\n",
    "        patch_num = patches.shape[1]\n",
    "        return tf.reshape(patches, (batch_size, patch_num * patch_num, patch_dim))\n",
    "\n",
    "\n",
    "class PatchEmbedding(layers.Layer):\n",
    "    def __init__(self, num_patch, embed_dim, **kwargs):\n",
    "        super(PatchEmbedding, self).__init__(**kwargs)\n",
    "        self.num_patch = num_patch\n",
    "        self.proj = layers.Dense(embed_dim)\n",
    "        self.pos_embed = layers.Embedding(input_dim=num_patch, output_dim=embed_dim)\n",
    "\n",
    "    def call(self, patch):\n",
    "        pos = tf.range(start=0, limit=self.num_patch, delta=1)\n",
    "        return self.proj(patch) + self.pos_embed(pos)\n",
    "\n",
    "\n",
    "class PatchMerging(tf.keras.layers.Layer):\n",
    "    def __init__(self, num_patch, embed_dim):\n",
    "        super(PatchMerging, self).__init__()\n",
    "        self.num_patch = num_patch\n",
    "        self.embed_dim = embed_dim\n",
    "        self.linear_trans = layers.Dense(2 * embed_dim, use_bias=False)\n",
    "\n",
    "    def call(self, x):\n",
    "        height, width = self.num_patch\n",
    "        _, _, C = x.get_shape().as_list()\n",
    "        x = tf.reshape(x, shape=(-1, height, width, C))\n",
    "        x0 = x[:, 0::2, 0::2, :]\n",
    "        x1 = x[:, 1::2, 0::2, :]\n",
    "        x2 = x[:, 0::2, 1::2, :]\n",
    "        x3 = x[:, 1::2, 1::2, :]\n",
    "        x = tf.concat((x0, x1, x2, x3), axis=-1)\n",
    "        x = tf.reshape(x, shape=(-1, (height // 2) * (width // 2), 4 * C))\n",
    "        return self.linear_trans(x)"
   ]
  },
  {
   "cell_type": "code",
   "execution_count": 83,
   "metadata": {
    "execution": {
     "iopub.execute_input": "2022-07-24T09:26:51.864255Z",
     "iopub.status.busy": "2022-07-24T09:26:51.863585Z",
     "iopub.status.idle": "2022-07-24T09:26:52.527719Z",
     "shell.execute_reply": "2022-07-24T09:26:52.526674Z",
     "shell.execute_reply.started": "2022-07-24T09:26:51.864216Z"
    }
   },
   "outputs": [],
   "source": [
    "input = layers.Input(input_shape)\n",
    "x = layers.RandomCrop(image_dimension, image_dimension)(input)\n",
    "x = layers.RandomFlip(\"horizontal\")(x)\n",
    "x = PatchExtract(patch_size)(x)\n",
    "x = PatchEmbedding(num_patch_x * num_patch_y, embed_dim)(x)\n",
    "x = SwinTransformer(\n",
    "    dim=embed_dim,\n",
    "    num_patch=(num_patch_x, num_patch_y),\n",
    "    num_heads=num_heads,\n",
    "    window_size=window_size,\n",
    "    shift_size=0,\n",
    "    num_mlp=num_mlp,\n",
    "    qkv_bias=qkv_bias,\n",
    "    dropout_rate=dropout_rate,\n",
    ")(x)\n",
    "x = SwinTransformer(\n",
    "    dim=embed_dim,\n",
    "    num_patch=(num_patch_x, num_patch_y),\n",
    "    num_heads=num_heads,\n",
    "    window_size=window_size,\n",
    "    shift_size=shift_size,\n",
    "    num_mlp=num_mlp,\n",
    "    qkv_bias=qkv_bias,\n",
    "    dropout_rate=dropout_rate,\n",
    ")(x)\n",
    "x = PatchMerging((num_patch_x, num_patch_y), embed_dim=embed_dim)(x)\n",
    "x = layers.GlobalAveragePooling1D()(x)\n",
    "output = layers.Dense(2, activation=\"softmax\")(x)"
   ]
  },
  {
   "cell_type": "code",
   "execution_count": 85,
   "metadata": {
    "execution": {
     "iopub.execute_input": "2022-07-24T09:27:21.256565Z",
     "iopub.status.busy": "2022-07-24T09:27:21.256190Z",
     "iopub.status.idle": "2022-07-24T16:52:56.269223Z",
     "shell.execute_reply": "2022-07-24T16:52:56.267183Z",
     "shell.execute_reply.started": "2022-07-24T09:27:21.256534Z"
    }
   },
   "outputs": [],
   "source": [
    "model = keras.Model(input, output)\n",
    "model.compile(\n",
    "    loss=keras.losses.SparseCategoricalCrossentropy(),\n",
    "    optimizer=tfa.optimizers.AdamW(\n",
    "        learning_rate=learning_rate, weight_decay=weight_decay\n",
    "    ),\n",
    "    metrics=[\n",
    "        keras.metrics.SparseCategoricalAccuracy(name=\"accuracy\")\n",
    "    ],\n",
    ")\n",
    "\n",
    "history = model.fit(\n",
    "    train_gen,\n",
    "    batch_size=batch_size,\n",
    "    epochs=num_epochs,\n",
    "    validation_data=valid_gen,\n",
    ")"
   ]
  },
  {
   "cell_type": "code",
   "execution_count": 89,
   "metadata": {
    "execution": {
     "iopub.execute_input": "2022-07-24T16:56:26.411014Z",
     "iopub.status.busy": "2022-07-24T16:56:26.410299Z",
     "iopub.status.idle": "2022-07-24T16:56:26.450087Z",
     "shell.execute_reply": "2022-07-24T16:56:26.448460Z",
     "shell.execute_reply.started": "2022-07-24T16:56:26.410977Z"
    }
   },
   "outputs": [],
   "source": [
    "model.save('./SWin_Transformer.h5')"
   ]
  },
  {
   "cell_type": "code",
   "execution_count": 86,
   "metadata": {
    "execution": {
     "iopub.execute_input": "2022-07-24T16:52:56.282439Z",
     "iopub.status.busy": "2022-07-24T16:52:56.279564Z",
     "iopub.status.idle": "2022-07-24T16:52:56.604442Z",
     "shell.execute_reply": "2022-07-24T16:52:56.603431Z",
     "shell.execute_reply.started": "2022-07-24T16:52:56.282386Z"
    }
   },
   "outputs": [],
   "source": [
    "plt.plot(history.history['accuracy'])\n",
    "plt.plot(history.history['val_accuracy'])\n",
    "plt.plot(history.history['loss'], label='Loss (training data)')\n",
    "plt.plot(history.history['val_loss'], label='Loss (validation data)')\n",
    "plt.title('Learning Curves')\n",
    "plt.ylabel('Loss / accuracy')\n",
    "plt.xlabel('epochs')\n",
    "plt.legend(['train_accuracy', 'validation_accuracy','train_loss', 'validation_loss'])\n",
    "plt.show()"
   ]
  },
  {
   "cell_type": "code",
   "execution_count": 120,
   "metadata": {
    "execution": {
     "iopub.execute_input": "2022-07-24T17:12:21.643304Z",
     "iopub.status.busy": "2022-07-24T17:12:21.642955Z",
     "iopub.status.idle": "2022-07-24T17:12:22.065936Z",
     "shell.execute_reply": "2022-07-24T17:12:22.064876Z",
     "shell.execute_reply.started": "2022-07-24T17:12:21.643272Z"
    }
   },
   "outputs": [],
   "source": [
    "plt.figure(figsize=(9,9))\n",
    "\n",
    "plt.plot(history.history['loss'], label='train loss')\n",
    "plt.plot(history.history['val_loss'], label='val loss')\n",
    "plt.plot(history.history['accuracy'], label='train accuracy')\n",
    "plt.plot(history.history['val_accuracy'], label='val accuracy')\n",
    "plt.title('Learning Curves')\n",
    "plt.ylabel('Loss / accuracy')\n",
    "plt.xlabel('epochs')\n",
    "plt.legend()\n",
    "plt.show()"
   ]
  },
  {
   "cell_type": "code",
   "execution_count": 91,
   "metadata": {
    "execution": {
     "iopub.execute_input": "2022-07-24T16:56:42.327043Z",
     "iopub.status.busy": "2022-07-24T16:56:42.326470Z",
     "iopub.status.idle": "2022-07-24T16:56:42.408991Z",
     "shell.execute_reply": "2022-07-24T16:56:42.407557Z",
     "shell.execute_reply.started": "2022-07-24T16:56:42.327007Z"
    }
   },
   "outputs": [],
   "source": [
    "model.save_weights('./S_Transformer_weights.h5')"
   ]
  },
  {
   "cell_type": "code",
   "execution_count": 92,
   "metadata": {
    "execution": {
     "iopub.execute_input": "2022-07-24T16:56:58.515701Z",
     "iopub.status.busy": "2022-07-24T16:56:58.514733Z",
     "iopub.status.idle": "2022-07-24T16:57:37.790848Z",
     "shell.execute_reply": "2022-07-24T16:57:37.789799Z",
     "shell.execute_reply.started": "2022-07-24T16:56:58.515665Z"
    }
   },
   "outputs": [],
   "source": [
    "predict = model.predict(test_gen)"
   ]
  },
  {
   "cell_type": "code",
   "execution_count": 95,
   "metadata": {
    "execution": {
     "iopub.execute_input": "2022-07-24T17:00:18.894183Z",
     "iopub.status.busy": "2022-07-24T17:00:18.893851Z",
     "iopub.status.idle": "2022-07-24T17:00:18.921118Z",
     "shell.execute_reply": "2022-07-24T17:00:18.920078Z",
     "shell.execute_reply.started": "2022-07-24T17:00:18.894156Z"
    }
   },
   "outputs": [],
   "source": [
    "predict"
   ]
  },
  {
   "cell_type": "code",
   "execution_count": 96,
   "metadata": {
    "execution": {
     "iopub.execute_input": "2022-07-24T17:00:41.994514Z",
     "iopub.status.busy": "2022-07-24T17:00:41.994046Z",
     "iopub.status.idle": "2022-07-24T17:00:42.000993Z",
     "shell.execute_reply": "2022-07-24T17:00:42.000028Z",
     "shell.execute_reply.started": "2022-07-24T17:00:41.994470Z"
    }
   },
   "outputs": [],
   "source": [
    "y_pred = predict.argmax(axis=1)"
   ]
  },
  {
   "cell_type": "code",
   "execution_count": 97,
   "metadata": {
    "execution": {
     "iopub.execute_input": "2022-07-24T17:00:48.660329Z",
     "iopub.status.busy": "2022-07-24T17:00:48.659678Z",
     "iopub.status.idle": "2022-07-24T17:00:48.668427Z",
     "shell.execute_reply": "2022-07-24T17:00:48.667301Z",
     "shell.execute_reply.started": "2022-07-24T17:00:48.660293Z"
    }
   },
   "outputs": [],
   "source": [
    "y_pred"
   ]
  },
  {
   "cell_type": "code",
   "execution_count": 99,
   "metadata": {
    "execution": {
     "iopub.execute_input": "2022-07-24T17:01:02.607352Z",
     "iopub.status.busy": "2022-07-24T17:01:02.606831Z",
     "iopub.status.idle": "2022-07-24T17:01:02.634169Z",
     "shell.execute_reply": "2022-07-24T17:01:02.633205Z",
     "shell.execute_reply.started": "2022-07-24T17:01:02.607323Z"
    }
   },
   "outputs": [],
   "source": [
    "test_gen.classes"
   ]
  },
  {
   "cell_type": "code",
   "execution_count": 100,
   "metadata": {
    "execution": {
     "iopub.execute_input": "2022-07-24T17:01:19.451912Z",
     "iopub.status.busy": "2022-07-24T17:01:19.451438Z",
     "iopub.status.idle": "2022-07-24T17:01:19.465011Z",
     "shell.execute_reply": "2022-07-24T17:01:19.463913Z",
     "shell.execute_reply.started": "2022-07-24T17:01:19.451872Z"
    }
   },
   "outputs": [],
   "source": [
    "from sklearn.metrics import classification_report, confusion_matrix\n",
    "print('Confusion Matrix')\n",
    "mat = confusion_matrix(test_gen.classes, y_pred)\n",
    "print(mat)"
   ]
  },
  {
   "cell_type": "code",
   "execution_count": 104,
   "metadata": {
    "execution": {
     "iopub.execute_input": "2022-07-24T17:02:16.735933Z",
     "iopub.status.busy": "2022-07-24T17:02:16.735266Z",
     "iopub.status.idle": "2022-07-24T17:02:38.828982Z",
     "shell.execute_reply": "2022-07-24T17:02:38.828055Z",
     "shell.execute_reply.started": "2022-07-24T17:02:16.735897Z"
    }
   },
   "outputs": [],
   "source": [
    "record = model.evaluate(test_gen)"
   ]
  },
  {
   "cell_type": "code",
   "execution_count": 106,
   "metadata": {
    "execution": {
     "iopub.execute_input": "2022-07-24T17:03:18.542151Z",
     "iopub.status.busy": "2022-07-24T17:03:18.541800Z",
     "iopub.status.idle": "2022-07-24T17:03:18.549552Z",
     "shell.execute_reply": "2022-07-24T17:03:18.548539Z",
     "shell.execute_reply.started": "2022-07-24T17:03:18.542122Z"
    }
   },
   "outputs": [],
   "source": [
    "from sklearn.metrics import confusion_matrix\n",
    "cm = confusion_matrix(test_gen.classes, y_pred)\n",
    "total = sum(sum(cm))"
   ]
  },
  {
   "cell_type": "code",
   "execution_count": 108,
   "metadata": {
    "execution": {
     "iopub.execute_input": "2022-07-24T17:03:45.068027Z",
     "iopub.status.busy": "2022-07-24T17:03:45.067509Z",
     "iopub.status.idle": "2022-07-24T17:03:45.079469Z",
     "shell.execute_reply": "2022-07-24T17:03:45.078335Z",
     "shell.execute_reply.started": "2022-07-24T17:03:45.067994Z"
    }
   },
   "outputs": [],
   "source": [
    "cm"
   ]
  },
  {
   "cell_type": "code",
   "execution_count": 110,
   "metadata": {
    "execution": {
     "iopub.execute_input": "2022-07-24T17:04:47.845116Z",
     "iopub.status.busy": "2022-07-24T17:04:47.844736Z",
     "iopub.status.idle": "2022-07-24T17:04:48.149737Z",
     "shell.execute_reply": "2022-07-24T17:04:48.148394Z",
     "shell.execute_reply.started": "2022-07-24T17:04:47.845084Z"
    }
   },
   "outputs": [],
   "source": [
    "# acc= (cm[0,0]+cm[1+1]) / total\n",
    "\n",
    "import seaborn as sns\n",
    "sns.heatmap(cm, annot=True, fmt='g')\n",
    "\n",
    "# y - axis true labels - 89+111 = 200, 93+107 = 200"
   ]
  },
  {
   "cell_type": "code",
   "execution_count": 112,
   "metadata": {
    "execution": {
     "iopub.execute_input": "2022-07-24T17:08:06.058213Z",
     "iopub.status.busy": "2022-07-24T17:08:06.057872Z",
     "iopub.status.idle": "2022-07-24T17:08:06.080278Z",
     "shell.execute_reply": "2022-07-24T17:08:06.079350Z",
     "shell.execute_reply.started": "2022-07-24T17:08:06.058184Z"
    }
   },
   "outputs": [],
   "source": [
    "test_gen.classes"
   ]
  },
  {
   "cell_type": "code",
   "execution_count": 114,
   "metadata": {
    "execution": {
     "iopub.execute_input": "2022-07-24T17:08:59.482272Z",
     "iopub.status.busy": "2022-07-24T17:08:59.481790Z",
     "iopub.status.idle": "2022-07-24T17:08:59.491806Z",
     "shell.execute_reply": "2022-07-24T17:08:59.490701Z",
     "shell.execute_reply.started": "2022-07-24T17:08:59.482230Z"
    }
   },
   "outputs": [],
   "source": [
    "import numpy as np\n",
    "tl = arr = np.array(test_gen.classes)"
   ]
  },
  {
   "cell_type": "code",
   "execution_count": 116,
   "metadata": {
    "execution": {
     "iopub.execute_input": "2022-07-24T17:09:18.680560Z",
     "iopub.status.busy": "2022-07-24T17:09:18.680094Z",
     "iopub.status.idle": "2022-07-24T17:09:18.686387Z",
     "shell.execute_reply": "2022-07-24T17:09:18.685362Z",
     "shell.execute_reply.started": "2022-07-24T17:09:18.680526Z"
    }
   },
   "outputs": [],
   "source": [
    "unique, counts = np.unique(tl, return_counts=True)"
   ]
  },
  {
   "cell_type": "code",
   "execution_count": 117,
   "metadata": {
    "execution": {
     "iopub.execute_input": "2022-07-24T17:09:33.160523Z",
     "iopub.status.busy": "2022-07-24T17:09:33.160139Z",
     "iopub.status.idle": "2022-07-24T17:09:33.168057Z",
     "shell.execute_reply": "2022-07-24T17:09:33.166997Z",
     "shell.execute_reply.started": "2022-07-24T17:09:33.160490Z"
    }
   },
   "outputs": [],
   "source": [
    "dict(zip(unique, counts))"
   ]
  },
  {
   "cell_type": "code",
   "execution_count": null,
   "metadata": {},
   "outputs": [],
   "source": [
    "from sklearn.metrics import confusion_matrix\n",
    "cm = confusion_matrix(test_gen.classes, y_pred)\n",
    "total = sum(sum(cm))"
   ]
  },
  {
   "cell_type": "code",
   "execution_count": 123,
   "metadata": {
    "execution": {
     "iopub.execute_input": "2022-07-24T17:25:42.493912Z",
     "iopub.status.busy": "2022-07-24T17:25:42.493225Z",
     "iopub.status.idle": "2022-07-24T17:25:42.513016Z",
     "shell.execute_reply": "2022-07-24T17:25:42.512104Z",
     "shell.execute_reply.started": "2022-07-24T17:25:42.493877Z"
    }
   },
   "outputs": [],
   "source": [
    "from sklearn import metrics\n",
    "print(\"ROC AUC Score:\", metrics.roc_auc_score(test_gen.classes, y_pred))\n",
    "print(\"AP Score:\", metrics.average_precision_score(test_gen.classes, y_pred))\n",
    "print()\n",
    "print(metrics.classification_report(test_gen.classes, y_pred > 0.5))"
   ]
  },
  {
   "cell_type": "code",
   "execution_count": 122,
   "metadata": {
    "execution": {
     "iopub.execute_input": "2022-07-24T17:23:53.107500Z",
     "iopub.status.busy": "2022-07-24T17:23:53.106499Z",
     "iopub.status.idle": "2022-07-24T17:23:53.115549Z",
     "shell.execute_reply": "2022-07-24T17:23:53.114327Z",
     "shell.execute_reply.started": "2022-07-24T17:23:53.107446Z"
    }
   },
   "outputs": [],
   "source": [
    "train_gen.class_indices"
   ]
  },
  {
   "cell_type": "code",
   "execution_count": 125,
   "metadata": {
    "execution": {
     "iopub.execute_input": "2022-07-24T17:26:27.333793Z",
     "iopub.status.busy": "2022-07-24T17:26:27.333311Z",
     "iopub.status.idle": "2022-07-24T17:26:27.346834Z",
     "shell.execute_reply": "2022-07-24T17:26:27.345724Z",
     "shell.execute_reply.started": "2022-07-24T17:26:27.333751Z"
    }
   },
   "outputs": [],
   "source": [
    "from sklearn.metrics import confusion_matrix\n",
    "cm = confusion_matrix(test_gen.classes,y_pred)\n",
    "total = sum(sum(cm))\n",
    "acc = (cm[0, 0] + cm[1, 1]) / total\n",
    "sensitivity = cm[0, 0] / (cm[0, 0] + cm[0, 1])\n",
    "specificity = cm[1, 1] / (cm[1, 0] + cm[1, 1])\n",
    "print(cm)\n",
    "print(\"acc: {:.4f}\".format(acc))\n",
    "print(\"sensitivity: {:.4f}\".format(sensitivity))\n",
    "print(\"specificity: {:.4f}\".format(specificity))"
   ]
  },
  {
   "cell_type": "code",
   "execution_count": null,
   "metadata": {},
   "outputs": [],
   "source": []
  }
 ],
 "metadata": {
  "kernelspec": {
   "display_name": "Python 3",
   "language": "python",
   "name": "python3"
  },
  "language_info": {
   "codemirror_mode": {
    "name": "ipython",
    "version": 3
   },
   "file_extension": ".py",
   "mimetype": "text/x-python",
   "name": "python",
   "nbconvert_exporter": "python",
   "pygments_lexer": "ipython3",
   "version": "3.6.13"
  }
 },
 "nbformat": 4,
 "nbformat_minor": 4
}
